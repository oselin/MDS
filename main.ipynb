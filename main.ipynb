{
 "cells": [
  {
   "cell_type": "code",
   "execution_count": 1,
   "metadata": {},
   "outputs": [],
   "source": [
    "from UAV import *\n",
    "import numpy as np"
   ]
  },
  {
   "cell_type": "markdown",
   "metadata": {},
   "source": [
    "### EVD algorithm"
   ]
  },
  {
   "cell_type": "code",
   "execution_count": 2,
   "metadata": {},
   "outputs": [],
   "source": [
    "def EVD(DM, final_dimension):\n",
    "    \"\"\"\n",
    "    Return the relative map of the nodes in the network\n",
    "    \"\"\"\n",
    "    n = len(DM)\n",
    "    # Centering Matrix definition\n",
    "    H = np.eye(n) - np.ones((n,n))/n\n",
    "\n",
    "    # Double centered matrix\n",
    "    B = -1/2*H@DM@H\n",
    "\n",
    "    # Eiegenvalue decomposition\n",
    "    ev, EV = np.linalg.eig(B)\n",
    "\n",
    "    # Sort according to the eigenvalues magnitude\n",
    "    seq = np.argsort(ev)[::-1]\n",
    "\n",
    "    LAMBDA = np.diag(ev[seq][:final_dimension])\n",
    "    U = EV[:,seq][:, :final_dimension]\n",
    "\n",
    "    # Relative map\n",
    "    X1 = np.sqrt(LAMBDA)@U.T\n",
    "\n",
    "    return X1.real"
   ]
  },
  {
   "cell_type": "markdown",
   "metadata": {},
   "source": [
    "### Generate random coordinates"
   ]
  },
  {
   "cell_type": "code",
   "execution_count": 3,
   "metadata": {},
   "outputs": [
    {
     "name": "stdout",
     "output_type": "stream",
     "text": [
      "[[ 4.0651259   3.60516298  4.55418851  3.79158146 -0.19268371  3.7537264\n",
      "   0.46520449 -4.90653102 -4.12930533 -2.72559897]\n",
      " [-3.32439712 -4.1087798  -4.26848511 -3.13758634  3.17023996 -4.02727448\n",
      "   3.71318793 -1.91112198  2.82744067 -4.81848186]\n",
      " [-1.51422265 -1.1409655  -0.58062112 -2.343711    1.06013458 -1.06374833\n",
      "   2.33012582  1.30089469 -3.75718678 -0.91486624]]\n"
     ]
    }
   ],
   "source": [
    "anchor = np.random.uniform(size=[3,1], low=-5, high=5)\n",
    "anchor = anchor + np.hstack([np.zeros([3,1]), np.random.uniform(low=-1,high=1, size=[3,3])])\n",
    "\n",
    "nodes = np.random.uniform(size=[3,6], low=-5, high=5)\n",
    "\n",
    "# Define the coordinates matrix\n",
    "X = np.hstack([anchor, nodes])\n",
    "print(X)\n",
    "\n",
    "N = X.shape[1]\n",
    "e = np.ones(N).reshape(-1,1)"
   ]
  },
  {
   "cell_type": "markdown",
   "metadata": {},
   "source": [
    "### Apply the EVD algorithm and get the relative map S"
   ]
  },
  {
   "cell_type": "code",
   "execution_count": 4,
   "metadata": {},
   "outputs": [],
   "source": [
    "# Compute the associated distance matrix\n",
    "Phi = np.diag(X.T @ X).reshape(-1,1)\n",
    "D = Phi @ e.T - 2* X.T @ X + e @ Phi.T\n",
    "\n",
    "S =  EVD(D,3)"
   ]
  },
  {
   "cell_type": "markdown",
   "metadata": {},
   "source": [
    "### Solve the ambiguity"
   ]
  },
  {
   "cell_type": "code",
   "execution_count": 5,
   "metadata": {},
   "outputs": [
    {
     "name": "stdout",
     "output_type": "stream",
     "text": [
      "[[ 3.65606239e+00  3.77999484e+00  4.52408105e+00  3.43145409e+00]\n",
      " [ 7.32219835e-01 -6.68969227e-02  5.57253510e-01  5.24080026e-01]\n",
      " [ 5.60629074e-01  1.88392736e-03 -5.43013344e-01  1.39967894e+00]]\n",
      "[[ 4.0651259   3.60516298  4.55418851  3.79158146]\n",
      " [-3.32439712 -4.1087798  -4.26848511 -3.13758634]\n",
      " [-1.51422265 -1.1409655  -0.58062112 -2.343711  ]]\n"
     ]
    }
   ],
   "source": [
    "# Define P and Q, two sets of corresponding nodes\n",
    "# P = anchors from the relative map\n",
    "# Q = true position of the anchors\n",
    "\n",
    "P = S[:,:4]\n",
    "Q = X[:,:4]\n",
    "\n",
    "print(P)\n",
    "print(Q)"
   ]
  },
  {
   "cell_type": "markdown",
   "metadata": {},
   "source": [
    "### Notes"
   ]
  },
  {
   "cell_type": "markdown",
   "metadata": {},
   "source": [
    "Apply the following equation\n",
    "\\begin{equation}\n",
    "(R,t) = \\argmin_{R,t} \\sum_{i=1}^N ||(R\\,p_i + t) - q_i||^2\n",
    "\\end{equation}\n",
    "\n",
    "def toVector(w, z):\n",
    "    assert w.shape == (2, 4)\n",
    "    assert z.shape == (2, 4)\n",
    "    return np.hstack([w.flatten(), z.flatten()])\n",
    "\n",
    "def toWZ(vec):\n",
    "    assert vec.shape == (2*2*4,)\n",
    "    return vec[:2*4].reshape(2,4), vec[2*4:].reshape(2,4)\n",
    "\n",
    "def doOptimization(f_of_w_z, w0, z0):\n",
    "    def f(x): \n",
    "        w, z = toWZ(x)\n",
    "        return f_of_w_z(w, z)\n",
    "\n",
    "    result = minimize(f, toVec(w0, z0))\n",
    "    # Different optimize functions return their\n",
    "    # vector result differently. In this case it's result.x:\n",
    "    result.x = toWZ(result.x) \n",
    "    return result"
   ]
  },
  {
   "cell_type": "markdown",
   "metadata": {},
   "source": [
    "### Solving the problem via the SVD approach"
   ]
  },
  {
   "cell_type": "code",
   "execution_count": 10,
   "metadata": {},
   "outputs": [
    {
     "name": "stdout",
     "output_type": "stream",
     "text": [
      "[[ 4.0651259   3.60516298  4.55418851  3.79158146 -0.19268371  3.7537264\n",
      "   0.46520449 -4.90653102 -4.12930533 -2.72559897]\n",
      " [-3.32439712 -4.1087798  -4.26848511 -3.13758634  3.17023996 -4.02727448\n",
      "   3.71318793 -1.91112198  2.82744067 -4.81848186]\n",
      " [-1.51422265 -1.1409655  -0.58062112 -2.343711    1.06013458 -1.06374833\n",
      "   2.33012582  1.30089469 -3.75718678 -0.91486624]]\n",
      "\n",
      "\n",
      "[[  3.93479011   4.40522411   4.08330031   3.59274432   9.68588189\n",
      "    4.36313207  10.15843217  12.49322336   9.17619222   8.99681827]\n",
      " [ -3.87108644  -3.65897262  -2.61303578  -4.69615353  -6.59099834\n",
      "   -3.53415796  -5.42194372  -7.8747617  -12.43331475  -7.25252772]\n",
      " [ -1.02647747  -1.8630434   -1.65683409  -1.0331653    4.11780005\n",
      "   -1.73141414   4.984111    -2.09262237   2.01336624  -4.43927506]]\n",
      "\n",
      "\n",
      "[[  0.13033579  -0.80006114   0.4708882    0.19883714  -9.8785656\n",
      "   -0.60940566  -9.69322768 -17.39975439 -13.30549755 -11.72241723]\n",
      " [  0.54668932  -0.44980719  -1.65544933   1.55856719   9.76123829\n",
      "   -0.49311652   9.13513165   5.96363971  15.26075542   2.43404586]\n",
      " [ -0.48774518   0.7220779    1.07621297  -1.31054569  -3.05766546\n",
      "    0.66766582  -2.65398518   3.39351706  -5.77055303   3.52440883]]\n",
      "15.260755420571265\n"
     ]
    }
   ],
   "source": [
    "#1. Compute the weighted centroids of both point sets\n",
    "P_bar, Q_bar = 1/4*np.sum(P, axis=1).reshape(-1,1), 1/4*np.sum(Q, axis=1).reshape(-1,1)\n",
    "\n",
    "#2. Compute the centered vectors\n",
    "P1, Q1 = P - P_bar, Q - Q_bar\n",
    "\n",
    "#3. Compute the 3 × 3 covariance matrix\n",
    "H = P1 @ Q1.T\n",
    "\n",
    "#4. Compute the singular value decomposition\n",
    "SS, VV, DD = np.linalg.svd(H)\n",
    "R = DD @ SS.T\n",
    "\n",
    "#5. Compute the optimal translation as\n",
    "t = Q_bar - R @ P_bar\n",
    "\n",
    "def f(x, i=3):\n",
    "    return(x[:,:i])\n",
    "\n",
    "X_hat = R@S + t\n",
    "\n",
    "print(X)\n",
    "print()\n",
    "print()\n",
    "\n",
    "print(X_hat)\n",
    "print()\n",
    "print()\n",
    "\n",
    "print(X-X_hat)\n",
    "print(np.max(X-X_hat))"
   ]
  },
  {
   "cell_type": "code",
   "execution_count": 7,
   "metadata": {},
   "outputs": [
    {
     "name": "stdout",
     "output_type": "stream",
     "text": [
      "[[ 4.0651259   3.60516298  4.55418851  3.79158146]\n",
      " [-3.32439712 -4.1087798  -4.26848511 -3.13758634]\n",
      " [-1.51422265 -1.1409655  -0.58062112 -2.343711  ]]\n",
      " 4.065 | 3.935 | 0.130\n",
      " -3.324 | -3.871 | 0.547\n",
      " -1.514 | -1.026 | -0.488\n",
      " 3.605 | 4.405 | -0.800\n",
      " -4.109 | -3.659 | -0.450\n",
      " -1.141 | -1.863 | 0.722\n",
      " 4.554 | 4.083 | 0.471\n",
      " -4.268 | -2.613 | -1.655\n",
      " -0.581 | -1.657 | 1.076\n",
      " 3.792 | 3.593 | 0.199\n",
      " -3.138 | -4.696 | 1.559\n",
      " -2.344 | -1.033 | -1.311\n",
      " -0.193 | 9.686 | -9.879\n",
      " 3.170 | -6.591 | 9.761\n",
      " 1.060 | 4.118 | -3.058\n",
      " 3.754 | 4.363 | -0.609\n",
      " -4.027 | -3.534 | -0.493\n",
      " -1.064 | -1.731 | 0.668\n",
      " 0.465 | 10.158 | -9.693\n",
      " 3.713 | -5.422 | 9.135\n",
      " 2.330 | 4.984 | -2.654\n",
      " -4.907 | 12.493 | -17.400\n",
      " -1.911 | -7.875 | 5.964\n",
      " 1.301 | -2.093 | 3.394\n",
      " -4.129 | 9.176 | -13.305\n",
      " 2.827 | -12.433 | 15.261\n",
      " -3.757 | 2.013 | -5.771\n",
      " -2.726 | 8.997 | -11.722\n",
      " -4.818 | -7.253 | 2.434\n",
      " -0.915 | -4.439 | 3.524\n"
     ]
    },
    {
     "data": {
      "text/plain": [
       "8.705643341222308"
      ]
     },
     "execution_count": 7,
     "metadata": {},
     "output_type": "execute_result"
    }
   ],
   "source": [
    "def RMSE(S, S_hat):\n",
    "    f = 0\n",
    "\n",
    "    for i in range(S.shape[1]):\n",
    "        tmp = 0\n",
    "        for j in range(S.shape[0]):\n",
    "            print(\" %.3f | %.3f | %.3f\" % (S[j,i], S_hat[j,i], S[j,i] - S_hat[j,i]))\n",
    "            tmp += (S[j,i] - S_hat[j,i])**2\n",
    "        f += np.sqrt(tmp)\n",
    "    \n",
    "    return f/S.shape[1]\n",
    "\n",
    "anchors_real = X[:,:4]\n",
    "anchors_estim = X_hat[:,:4]\n",
    "\n",
    "#print(anchors_real - anchors_estim)\n",
    "print(anchors_real)\n",
    "RMSE(X, X_hat)"
   ]
  }
 ],
 "metadata": {
  "kernelspec": {
   "display_name": "Python 3.10.6 64-bit",
   "language": "python",
   "name": "python3"
  },
  "language_info": {
   "codemirror_mode": {
    "name": "ipython",
    "version": 3
   },
   "file_extension": ".py",
   "mimetype": "text/x-python",
   "name": "python",
   "nbconvert_exporter": "python",
   "pygments_lexer": "ipython3",
   "version": "3.10.6"
  },
  "orig_nbformat": 4,
  "vscode": {
   "interpreter": {
    "hash": "916dbcbb3f70747c44a77c7bcd40155683ae19c65e1c03b4aa3499c5328201f1"
   }
  }
 },
 "nbformat": 4,
 "nbformat_minor": 2
}
